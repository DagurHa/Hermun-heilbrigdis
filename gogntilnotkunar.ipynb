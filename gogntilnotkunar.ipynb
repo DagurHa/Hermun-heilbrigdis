{
 "cells": [
  {
   "attachments": {},
   "cell_type": "markdown",
   "metadata": {},
   "source": [
    "# Gögn fyrir líkan"
   ]
  },
  {
   "cell_type": "code",
   "execution_count": 2,
   "metadata": {},
   "outputs": [],
   "source": [
    "import pandas as pd \n",
    "import plotly.express as px\n",
    "import numpy as np\n",
    "import csv"
   ]
  },
  {
   "cell_type": "code",
   "execution_count": 3,
   "metadata": {},
   "outputs": [],
   "source": [
    "df2 = pd.read_csv(\"Legur per dag.csv\")\n",
    "df2[\"Dagsetning innritunar\"] = pd.to_datetime(df2[\"Dagsetning innritunar\"])\n",
    "df2[\"Dagsetning útskriftar\"] = pd.to_datetime(df2[\"Dagsetning útskriftar\"])\n",
    "df2 = df2[df2['Dagsetning innritunar'].dt.year != 2009]"
   ]
  },
  {
   "cell_type": "code",
   "execution_count": 4,
   "metadata": {},
   "outputs": [],
   "source": [
    "date_counts = df2[\"Dagsetning útskriftar\"].value_counts()\n",
    "date_range = pd.date_range(start=df2['Dagsetning útskriftar'].min(), end=df2['Dagsetning útskriftar'].max(), freq='D')\n",
    "date_counts = date_counts.reindex(date_range, fill_value=0)\n",
    "kut = date_counts.tolist()\n",
    "\n",
    "date_counts = df2['Dagsetning innritunar'].value_counts()\n",
    "date_range = pd.date_range(start=df2['Dagsetning innritunar'].min(), end=df2['Dagsetning innritunar'].max(), freq='D')\n",
    "date_counts = date_counts.reindex(date_range, fill_value=0)\n",
    "kinn = date_counts.tolist()\n",
    "\n",
    "dagar = []\n",
    "dagar.append(kinn[0]-kut[0])\n",
    "for i in range(1,len(kinn)):\n",
    "    dagar.append(kinn[i]+dagar[i-1]-kut[i])"
   ]
  },
  {
   "cell_type": "code",
   "execution_count": 6,
   "metadata": {},
   "outputs": [
    {
     "data": {
      "text/html": [
       "<div>\n",
       "<style scoped>\n",
       "    .dataframe tbody tr th:only-of-type {\n",
       "        vertical-align: middle;\n",
       "    }\n",
       "\n",
       "    .dataframe tbody tr th {\n",
       "        vertical-align: top;\n",
       "    }\n",
       "\n",
       "    .dataframe thead th {\n",
       "        text-align: right;\n",
       "    }\n",
       "</style>\n",
       "<table border=\"1\" class=\"dataframe\">\n",
       "  <thead>\n",
       "    <tr style=\"text-align: right;\">\n",
       "      <th></th>\n",
       "      <th>Aldursflokkur</th>\n",
       "      <th>Meðal Count</th>\n",
       "    </tr>\n",
       "  </thead>\n",
       "  <tbody>\n",
       "    <tr>\n",
       "      <th>0</th>\n",
       "      <td>0-49 ára</td>\n",
       "      <td>43.739890</td>\n",
       "    </tr>\n",
       "    <tr>\n",
       "      <th>1</th>\n",
       "      <td>50-69 ára</td>\n",
       "      <td>23.198020</td>\n",
       "    </tr>\n",
       "    <tr>\n",
       "      <th>2</th>\n",
       "      <td>70 ára og eldri</td>\n",
       "      <td>34.490733</td>\n",
       "    </tr>\n",
       "  </tbody>\n",
       "</table>\n",
       "</div>"
      ],
      "text/plain": [
       "     Aldursflokkur  Meðal Count\n",
       "0         0-49 ára    43.739890\n",
       "1        50-69 ára    23.198020\n",
       "2  70 ára og eldri    34.490733"
      ]
     },
     "execution_count": 6,
     "metadata": {},
     "output_type": "execute_result"
    }
   ],
   "source": [
    "grouped_df = df2.groupby(['Dagsetning innritunar', 'Aldursflokkur']).size().reset_index(name='Count')\n",
    "mean_df = grouped_df.groupby('Aldursflokkur')['Count'].mean().reset_index(name='Meðal Count')\n",
    "mean_df"
   ]
  },
  {
   "cell_type": "code",
   "execution_count": 36,
   "metadata": {},
   "outputs": [
    {
     "data": {
      "text/html": [
       "<div>\n",
       "<style scoped>\n",
       "    .dataframe tbody tr th:only-of-type {\n",
       "        vertical-align: middle;\n",
       "    }\n",
       "\n",
       "    .dataframe tbody tr th {\n",
       "        vertical-align: top;\n",
       "    }\n",
       "\n",
       "    .dataframe thead th {\n",
       "        text-align: right;\n",
       "    }\n",
       "</style>\n",
       "<table border=\"1\" class=\"dataframe\">\n",
       "  <thead>\n",
       "    <tr style=\"text-align: right;\">\n",
       "      <th></th>\n",
       "      <th>Fjöldi á dag</th>\n",
       "      <th>Meðalkoma Ungir</th>\n",
       "      <th>Meðalkoma Miðaldra</th>\n",
       "      <th>Meðalkoma Gamlir</th>\n",
       "    </tr>\n",
       "  </thead>\n",
       "  <tbody>\n",
       "    <tr>\n",
       "      <th>0</th>\n",
       "      <td>207</td>\n",
       "      <td>43.73989</td>\n",
       "      <td>23.19802</td>\n",
       "      <td>34.490733</td>\n",
       "    </tr>\n",
       "    <tr>\n",
       "      <th>1</th>\n",
       "      <td>257</td>\n",
       "      <td>NaN</td>\n",
       "      <td>NaN</td>\n",
       "      <td>NaN</td>\n",
       "    </tr>\n",
       "    <tr>\n",
       "      <th>2</th>\n",
       "      <td>280</td>\n",
       "      <td>NaN</td>\n",
       "      <td>NaN</td>\n",
       "      <td>NaN</td>\n",
       "    </tr>\n",
       "    <tr>\n",
       "      <th>3</th>\n",
       "      <td>255</td>\n",
       "      <td>NaN</td>\n",
       "      <td>NaN</td>\n",
       "      <td>NaN</td>\n",
       "    </tr>\n",
       "    <tr>\n",
       "      <th>4</th>\n",
       "      <td>247</td>\n",
       "      <td>NaN</td>\n",
       "      <td>NaN</td>\n",
       "      <td>NaN</td>\n",
       "    </tr>\n",
       "    <tr>\n",
       "      <th>...</th>\n",
       "      <td>...</td>\n",
       "      <td>...</td>\n",
       "      <td>...</td>\n",
       "      <td>...</td>\n",
       "    </tr>\n",
       "    <tr>\n",
       "      <th>4743</th>\n",
       "      <td>261</td>\n",
       "      <td>NaN</td>\n",
       "      <td>NaN</td>\n",
       "      <td>NaN</td>\n",
       "    </tr>\n",
       "    <tr>\n",
       "      <th>4744</th>\n",
       "      <td>232</td>\n",
       "      <td>NaN</td>\n",
       "      <td>NaN</td>\n",
       "      <td>NaN</td>\n",
       "    </tr>\n",
       "    <tr>\n",
       "      <th>4745</th>\n",
       "      <td>149</td>\n",
       "      <td>NaN</td>\n",
       "      <td>NaN</td>\n",
       "      <td>NaN</td>\n",
       "    </tr>\n",
       "    <tr>\n",
       "      <th>4746</th>\n",
       "      <td>58</td>\n",
       "      <td>NaN</td>\n",
       "      <td>NaN</td>\n",
       "      <td>NaN</td>\n",
       "    </tr>\n",
       "    <tr>\n",
       "      <th>4747</th>\n",
       "      <td>0</td>\n",
       "      <td>NaN</td>\n",
       "      <td>NaN</td>\n",
       "      <td>NaN</td>\n",
       "    </tr>\n",
       "  </tbody>\n",
       "</table>\n",
       "<p>4748 rows × 4 columns</p>\n",
       "</div>"
      ],
      "text/plain": [
       "      Fjöldi á dag  Meðalkoma Ungir  Meðalkoma Miðaldra  Meðalkoma Gamlir\n",
       "0              207         43.73989            23.19802         34.490733\n",
       "1              257              NaN                 NaN               NaN\n",
       "2              280              NaN                 NaN               NaN\n",
       "3              255              NaN                 NaN               NaN\n",
       "4              247              NaN                 NaN               NaN\n",
       "...            ...              ...                 ...               ...\n",
       "4743           261              NaN                 NaN               NaN\n",
       "4744           232              NaN                 NaN               NaN\n",
       "4745           149              NaN                 NaN               NaN\n",
       "4746            58              NaN                 NaN               NaN\n",
       "4747             0              NaN                 NaN               NaN\n",
       "\n",
       "[4748 rows x 4 columns]"
      ]
     },
     "execution_count": 36,
     "metadata": {},
     "output_type": "execute_result"
    }
   ],
   "source": [
    "tafla = pd.DataFrame(\n",
    "    {\"Fjöldi á dag\": dagar,\n",
    "    \"Meðalkoma Ungir\": mean_df[\"Meðal Count\"][0],\n",
    "    \"Meðalkoma Miðaldra\": mean_df[\"Meðal Count\"][1],\n",
    "    \"Meðalkoma Gamlir\": mean_df[\"Meðal Count\"][2] }\n",
    ")\n",
    "tafla.iloc[1:,1] = np.nan\n",
    "tafla.iloc[1:,2] = np.nan\n",
    "tafla.iloc[1:,3] = np.nan\n",
    "tafla"
   ]
  },
  {
   "cell_type": "code",
   "execution_count": 37,
   "metadata": {},
   "outputs": [],
   "source": [
    "tafla.to_csv(\"dagar.csv\")"
   ]
  }
 ],
 "metadata": {
  "kernelspec": {
   "display_name": "base",
   "language": "python",
   "name": "python3"
  },
  "language_info": {
   "codemirror_mode": {
    "name": "ipython",
    "version": 3
   },
   "file_extension": ".py",
   "mimetype": "text/x-python",
   "name": "python",
   "nbconvert_exporter": "python",
   "pygments_lexer": "ipython3",
   "version": "3.8.3"
  },
  "orig_nbformat": 4
 },
 "nbformat": 4,
 "nbformat_minor": 2
}
