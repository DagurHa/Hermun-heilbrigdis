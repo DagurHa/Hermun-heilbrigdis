{
 "cells": [
  {
   "attachments": {},
   "cell_type": "markdown",
   "metadata": {},
   "source": [
    "## Heilbrigðislíkan\n",
    "Smá byrjun"
   ]
  },
  {
   "cell_type": "code",
   "execution_count": 2,
   "metadata": {},
   "outputs": [],
   "source": [
    "import simpy as sp\n",
    "import streamlit as st\n",
    "import numpy as np\n",
    "import math\n",
    "import random"
   ]
  },
  {
   "cell_type": "code",
   "execution_count": 11,
   "metadata": {},
   "outputs": [],
   "source": [
    "class Manneskja:\n",
    "    def __init__(self,aldur):\n",
    "        self.aldur = aldur\n",
    "        if self.aldur < 65:\n",
    "            self.prob = 0.02\n",
    "        else:\n",
    "            self.prob = 0.1\n",
    "    def MtoP(self):\n",
    "        p = Patient(self.aldur,\"móttaka\")\n",
    "        return p\n",
    "\n",
    "class Patient:\n",
    "    def __init__(self,aldur,place):\n",
    "        self.aldur = aldur\n",
    "        self.place = place\n",
    "        if place == \"skurðaaðgerð\":\n",
    "            self.p_death = 0.1\n",
    "            self.p_surgery = 0.0\n",
    "            self.p_mottaka = 0.9\n",
    "        if place == \"móttaka\":\n",
    "            self.p_death = 0.0\n",
    "            self.p_home = 0.7\n",
    "            self.p_surgery = 0.3\n",
    "    def PtoM(self):\n",
    "        m = Manneskja(self.aldur)\n",
    "        return m"
   ]
  },
  {
   "cell_type": "code",
   "execution_count": 15,
   "metadata": {},
   "outputs": [],
   "source": [
    "class Spitali:\n",
    "    def __init__(self,cap):\n",
    "        self.cap = cap\n",
    "        self.amount = 0\n",
    "    def addP(self):\n",
    "        if self.amount == self.cap:\n",
    "            raise Exception(\"Nú er spítalinn fullur það tók\")\n",
    "        self.amount += 1\n",
    "    def removeP(self):\n",
    "        self.amount -= 1"
   ]
  },
  {
   "cell_type": "code",
   "execution_count": null,
   "metadata": {},
   "outputs": [],
   "source": [
    "N = 1000\n",
    "t = 1\n",
    "timi = 0\n",
    "P = []\n",
    "M = []\n",
    "S = Spitali(500)\n",
    "fj_surg = 0\n",
    "fj_mot = 0\n",
    "for p in range(0,299):\n",
    "    age = random.randint(65,99)\n",
    "    pi = Manneskja(age)\n",
    "    M.append(pi)\n",
    "for p in range(300,N):\n",
    "    age = random.randint(1,64)\n",
    "    pi = Manneskja(age)\n",
    "    M.append(pi)\n",
    "while(True):\n",
    "    timi += t\n",
    "    for m in M:\n",
    "        r = random.random()\n",
    "        if r < m.prob:\n",
    "            S.addP()\n",
    "            pi = m.MtoP()\n",
    "            M.remove(m)\n",
    "            P.append(pi)\n",
    "    for p in P:\n",
    "        r = random.random()\n",
    "        if p.place == \"móttaka\":\n",
    "            if r < p.p_death:\n",
    "                P.remove(p)\n",
    "                S.removeP()\n",
    "            if r >= p.p_death and r <= p.p_surgery:\n",
    "                P.remove(p)\n",
    "                S.removeP()\n",
    "                m = p.PtoM()\n",
    "                M.append(m)\n",
    "            else:\n",
    "                p.place = \"skurðaaðgerð\"\n",
    "        if p.place == \"skurðaaðgerð\":\n",
    "            if r < p.p_surgery:\n",
    "                p.place = \"skurðaaðgerð\"\n",
    "            if r >= p.p_surgery and r <= p.p_death:\n",
    "                P.remove(p)\n",
    "                S.removeP()\n",
    "            else:\n",
    "                p.place = \"móttaka\"\n",
    "    print(\"fjöldi fólks á spítala á degi\",timi,\"er\",S.amount)"
   ]
  }
 ],
 "metadata": {
  "kernelspec": {
   "display_name": "Python 3",
   "language": "python",
   "name": "python3"
  },
  "language_info": {
   "codemirror_mode": {
    "name": "ipython",
    "version": 3
   },
   "file_extension": ".py",
   "mimetype": "text/x-python",
   "name": "python",
   "nbconvert_exporter": "python",
   "pygments_lexer": "ipython3",
   "version": "3.10.4"
  },
  "orig_nbformat": 4
 },
 "nbformat": 4,
 "nbformat_minor": 2
}
