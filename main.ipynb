{
 "cells": [
  {
   "attachments": {},
   "cell_type": "markdown",
   "metadata": {},
   "source": [
    "## Heilbrigðislíkan\n",
    "Smá byrjun"
   ]
  },
  {
   "cell_type": "code",
   "execution_count": 2,
   "metadata": {},
   "outputs": [],
   "source": [
    "import simpy as sp\n",
    "import streamlit as st\n",
    "import numpy as np\n",
    "import math\n",
    "import random\n",
    "import time\n",
    "import os\n",
    "import signal\n",
    "from multiprocessing import Process\n",
    "import pandas as pd\n",
    "import matplotlib.pyplot as plt"
   ]
  },
  {
   "cell_type": "code",
   "execution_count": 12,
   "metadata": {},
   "outputs": [],
   "source": [
    "TIMI = 0\n",
    "STOP = 10000\n",
    "visual_col,chart_col = st.columns([1,3])\n",
    "prob = {\n",
    "    \"surgery\" : (0.0,0.7,0.3,0.0),\n",
    "    \"móttaka\" : (0.5,0.0,0.0,0.5),\n",
    "    \"death\" : (0.0,0.0,1.0,0.0),\n",
    "    \"Heim\" : (0.0,0.0,0.0,1.0)\n",
    "}"
   ]
  },
  {
   "cell_type": "code",
   "execution_count": 13,
   "metadata": {},
   "outputs": [],
   "source": [
    "class Patient:\n",
    "    def __init__(self,aldur,place):\n",
    "        self.aldur = aldur\n",
    "        self.place = place\n",
    "        if self.place == \"skurðaaðgerð\":\n",
    "            self.p_death = 0.1\n",
    "            self.p_surgery = 0.0\n",
    "            self.p_mottaka = 0.9\n",
    "        if self.place == \"móttaka\":\n",
    "            self.p_death = 0.0\n",
    "            self.p_surgery = 0.3\n",
    "            self.p_home = 0.7\n",
    "\n",
    "class Spitali:\n",
    "    def __init__(self,cap,amount):\n",
    "        self.cap = cap\n",
    "        self.amount = amount\n",
    "    def addP(self):\n",
    "        #if self.amount == self.cap:\n",
    "            #raise Exception(\"Nú er spítalinn fullur það tók\")\n",
    "        self.amount += 1\n",
    "    def removeP(self):\n",
    "        self.amount -= 1"
   ]
  },
  {
   "cell_type": "code",
   "execution_count": 14,
   "metadata": {},
   "outputs": [
    {
     "name": "stderr",
     "output_type": "stream",
     "text": [
      "2023-05-25 10:59:11.629 Session state does not function when running a script without `streamlit run`\n"
     ]
    }
   ],
   "source": [
    "#sliders o.fl.\n",
    "with st.expander(\"Breyta hlutum\"):\n",
    "    h_A = st.slider(\"Hlutfall aldraðra\",value = 0.3,step = 0.02)\n",
    "    N = st.slider(\"Stærð þjóðar\",min_value = 500,max_value = 5000,value = 1000,step = 100)\n",
    "    T = st.slider(\"Tímaskref í dögum\",min_value = 1,max_value = 30,step = 1)\n",
    "    CAP = st.slider(\"Hámarskfjöldi á spítala\",min_value = 100,max_value = 1000,value = 250,step = 50)\n",
    "    PROB_A = st.slider(\"Líkur á að aldraðir fari á spítala\",value = 0.1,step=0.1)\n",
    "    PROB_U = st.slider(\"Líkur á að ungir fari á spítala\",value = 0.02,step=0.1)\n",
    "\n",
    "h_U = 1-h_A"
   ]
  },
  {
   "cell_type": "code",
   "execution_count": 7,
   "metadata": {},
   "outputs": [
    {
     "data": {
      "text/plain": [
       "DeltaGenerator()"
      ]
     },
     "execution_count": 7,
     "metadata": {},
     "output_type": "execute_result"
    },
    {
     "data": {
      "image/png": "[encoded data removed]",
      "text/plain": [
       "<Figure size 640x480 with 1 Axes>"
      ]
     },
     "metadata": {},
     "output_type": "display_data"
    }
   ],
   "source": [
    "labels = \"Aldraðir\",\"Ungir\"\n",
    "sizes = [h_A*N,h_U*N]\n",
    "\n",
    "fig1,ax1 = plt.subplots()\n",
    "ax1.pie(sizes,labels = labels)\n",
    "\n",
    "visual_col.pyplot(fig1)"
   ]
  },
  {
   "cell_type": "code",
   "execution_count": 18,
   "metadata": {},
   "outputs": [],
   "source": [
    "def sim():\n",
    "    p_A = PROB_A\n",
    "    p_U = PROB_U\n",
    "    n = N\n",
    "    timi = TIMI\n",
    "    t = T\n",
    "    cap = CAP\n",
    "    P = []            # fjöldi sjúklinga á spítala\n",
    "    S = Spitali(cap,0)  # spítali með capacity 500 og núverandi sjúklinga 0\n",
    "    d = {\"fjöldi á spítala\":[0],\"capacity\":cap}\n",
    "    df = pd.DataFrame(d,index = [timi])\n",
    "    chart = chart_col.line_chart(df)\n",
    "    while(timi < STOP):\n",
    "        timi += t\n",
    "        s_A = t*np.random.binomial(h_A*n,p_A)\n",
    "        s_U = t*np.random.binomial(h_U*n,p_U)\n",
    "        n -= (s_A+s_U)\n",
    "        for _ in range(s_A):\n",
    "            age = random.randint(65,99)\n",
    "            pi = Patient(age,\"móttaka\")\n",
    "            P.append(pi)\n",
    "            S.addP()\n",
    "        for _ in range(s_U):\n",
    "            age = random.randint(1,64)\n",
    "            pi = Patient(age,\"móttaka\")\n",
    "            P.append(pi)\n",
    "            S.addP()\n",
    "        for p in P:\n",
    "            r = random.random()\n",
    "            if p.place == \"móttaka\":\n",
    "                if r < p.p_death:\n",
    "                    P.remove(p)\n",
    "                    S.removeP()\n",
    "                if r >= p.p_death and r <= p.p_surgery:\n",
    "                    P.remove(p)\n",
    "                    S.removeP()\n",
    "                    n += 1\n",
    "                else:\n",
    "                    p.place = \"skurðaaðgerð\"\n",
    "            elif p.place == \"skurðaaðgerð\":\n",
    "                if r < p.p_surgery:\n",
    "                    p.place = \"skurðaaðgerð\"\n",
    "                if r >= p.p_surgery and r <= p.p_death:\n",
    "                    P.remove(p)\n",
    "                    S.removeP()\n",
    "                else:\n",
    "                    p.place = \"móttaka\"\n",
    "        d = {\"fjöldi á spítala\": [S.amount],\"capacity\":cap}\n",
    "        df = pd.DataFrame(d,index = [timi])\n",
    "        chart.add_rows(df)\n",
    "        time.sleep(0.1)\n",
    "        print(\"fjöldi fólks á spítala á degi\",timi,\"er\",S.amount)"
   ]
  },
  {
   "cell_type": "code",
   "execution_count": 19,
   "metadata": {},
   "outputs": [],
   "source": [
    "st.sidebar.title(\"Controls\")\n",
    "start = st.sidebar.button(\"Start\")\n",
    "stop = st.sidebar.button(\"Stop\")\n",
    "\n",
    "if start:\n",
    "    sim()\n",
    "\n",
    "if stop:\n",
    "    st.stop()"
   ]
  }
 ],
 "metadata": {
  "kernelspec": {
   "display_name": "Python 3",
   "language": "python",
   "name": "python3"
  },
  "language_info": {
   "codemirror_mode": {
    "name": "ipython",
    "version": 3
   },
   "file_extension": ".py",
   "mimetype": "text/x-python",
   "name": "python",
   "nbconvert_exporter": "python",
   "pygments_lexer": "ipython3",
   "version": "3.10.4"
  },
  "orig_nbformat": 4
 },
 "nbformat": 4,
 "nbformat_minor": 2
}
