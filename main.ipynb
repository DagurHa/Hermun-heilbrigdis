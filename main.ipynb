{
 "cells": [
  {
   "attachments": {},
   "cell_type": "markdown",
   "metadata": {},
   "source": [
    "## Heilbrigðislíkan\n",
    "Smá byrjun"
   ]
  },
  {
   "cell_type": "code",
   "execution_count": 2,
   "metadata": {},
   "outputs": [],
   "source": [
    "import simpy as sp\n",
    "import streamlit as st\n",
    "import numpy as np\n",
    "import math\n",
    "import random\n",
    "import time\n",
    "import os\n",
    "import signal\n",
    "from multiprocessing import Process\n",
    "import pandas as pd\n",
    "import matplotlib.pyplot as plt"
   ]
  },
  {
   "cell_type": "code",
   "execution_count": 57,
   "metadata": {},
   "outputs": [],
   "source": [
    "TIMI = 0\n",
    "N = 1000\n",
    "T = 1"
   ]
  },
  {
   "cell_type": "code",
   "execution_count": 53,
   "metadata": {},
   "outputs": [],
   "source": [
    "class Manneskja:\n",
    "    def __init__(self,aldur):\n",
    "        self.aldur = aldur\n",
    "        if self.aldur < 65:\n",
    "            self.prob = 0.02\n",
    "        else:\n",
    "            self.prob = 0.1\n",
    "    def MtoP(self):\n",
    "        p = Patient(self.aldur,\"móttaka\")\n",
    "        return p\n",
    "\n",
    "class Patient:\n",
    "    def __init__(self,aldur,place):\n",
    "        self.aldur = aldur\n",
    "        self.place = place\n",
    "        if place == \"skurðaaðgerð\":\n",
    "            self.p_death = 0.1\n",
    "            self.p_surgery = 0.0\n",
    "            self.p_mottaka = 0.9\n",
    "        if place == \"móttaka\":\n",
    "            self.p_death = 0.0\n",
    "            self.p_home = 0.7\n",
    "            self.p_surgery = 0.3\n",
    "    def PtoM(self):\n",
    "        m = Manneskja(self.aldur)\n",
    "        return m"
   ]
  },
  {
   "cell_type": "code",
   "execution_count": 54,
   "metadata": {},
   "outputs": [],
   "source": [
    "class Spitali:\n",
    "    def __init__(self,cap):\n",
    "        self.cap = cap\n",
    "        self.amount = 0\n",
    "    def addP(self):\n",
    "        if self.amount == self.cap:\n",
    "            raise Exception(\"Nú er spítalinn fullur það tók\")\n",
    "        self.amount += 1\n",
    "    def removeP(self):\n",
    "        self.amount -= 1"
   ]
  },
  {
   "cell_type": "code",
   "execution_count": 60,
   "metadata": {},
   "outputs": [
    {
     "data": {
      "text/plain": [
       "DeltaGenerator()"
      ]
     },
     "execution_count": 60,
     "metadata": {},
     "output_type": "execute_result"
    }
   ],
   "source": [
    "h_A = st.slider(\"Hlutfall aldraða\",value = 0.3,step = 0.02)\n",
    "h_U = 1-h_A\n",
    "\n",
    "labels = \"Aldraðir\",\"Ungir\"\n",
    "sizes = [h_A*N,h_U*N]\n",
    "\n",
    "fig1,ax1 = plt.subplots()\n",
    "ax1.pie(sizes,labels = labels)\n",
    "\n",
    "st.pyplot(fig1)"
   ]
  },
  {
   "cell_type": "code",
   "execution_count": 63,
   "metadata": {},
   "outputs": [],
   "source": [
    "def sim():\n",
    "    n = N\n",
    "    timi = TIMI\n",
    "    t = T\n",
    "    P = []            # fjöldi sjúklinga á spítala\n",
    "    M = []            # fjöldi manneskja ekki á spítala\n",
    "    S = Spitali(500)  # spítali með capacity 500\n",
    "    d = {0:0}\n",
    "    df = pd.DataFrame(d,index=[0])\n",
    "    chart = st.line_chart(df)\n",
    "    for p in range(0, int(h_A*n)):\n",
    "        age = random.randint(65, 99)\n",
    "        pi = Manneskja(age)\n",
    "        M.append(pi)\n",
    "    for p in range(int(h_A*n), n):\n",
    "        age = random.randint(1, 64)\n",
    "        pi = Manneskja(age)\n",
    "        M.append(pi)\n",
    "    STOP = 10000\n",
    "    while(timi < STOP):\n",
    "        timi += t\n",
    "        for m in M:\n",
    "            r = random.random()\n",
    "            if r < m.prob:\n",
    "                S.addP()\n",
    "                pi = m.MtoP()\n",
    "                M.remove(m)\n",
    "                P.append(pi)\n",
    "        for p in P:\n",
    "            r = random.random()\n",
    "            if p.place == \"móttaka\":\n",
    "                if r < p.p_death:\n",
    "                    P.remove(p)\n",
    "                    S.removeP()\n",
    "                if r >= p.p_death and r <= p.p_surgery:\n",
    "                    P.remove(p)\n",
    "                    S.removeP()\n",
    "                    m = p.PtoM()\n",
    "                    M.append(m)\n",
    "                else:\n",
    "                    p.place = \"skurðaaðgerð\"\n",
    "            if p.place == \"skurðaaðgerð\":\n",
    "                if r < p.p_surgery:\n",
    "                    p.place = \"skurðaaðgerð\"\n",
    "                if r >= p.p_surgery and r <= p.p_death:\n",
    "                    P.remove(p)\n",
    "                    S.removeP()\n",
    "                else:\n",
    "                    p.place = \"móttaka\"\n",
    "        d = {timi: S.amount}\n",
    "        df = pd.DataFrame(d,index=[0])\n",
    "        chart.add_rows(df.values.tolist())\n",
    "        time.sleep(0.1)\n",
    "        print(\"fjöldi fólks á spítala á degi\",timi,\"er\",S.amount)"
   ]
  },
  {
   "cell_type": "code",
   "execution_count": 64,
   "metadata": {},
   "outputs": [],
   "source": [
    "\"\"\"st.sidebar.title(\"Controls\")\n",
    "start = st.sidebar.button(\"Start\")\n",
    "stop = st.sidebar.button(\"Stop\")\n",
    "\n",
    "state = st.session_state.get(\"pid\", None)  # Use string \"pid\" as the key\n",
    "\n",
    "if start:\n",
    "    p = Process(target=sim)\n",
    "    p.start()\n",
    "    state = {\"pid\": p.pid}  # Assign the \"pid\" value to the state dictionary\n",
    "    st.write(\"Started process with pid:\", state[\"pid\"])\n",
    "\n",
    "if stop:\n",
    "    if state and \"pid\" in state:\n",
    "        os.kill(state[\"pid\"], signal.SIGKILL)\n",
    "        st.write(\"Stopped process with pid:\", state[\"pid\"])\n",
    "        state[\"pid\"] = None\n",
    "    else:\n",
    "        st.write(\"No process running.\")\n",
    "\n",
    "st.session_state[\"pid\"] = state  # Store the updated state back to session_state\"\"\"\n",
    "sim()"
   ]
  }
 ],
 "metadata": {
  "kernelspec": {
   "display_name": "Python 3",
   "language": "python",
   "name": "python3"
  },
  "language_info": {
   "codemirror_mode": {
    "name": "ipython",
    "version": 3
   },
   "file_extension": ".py",
   "mimetype": "text/x-python",
   "name": "python",
   "nbconvert_exporter": "python",
   "pygments_lexer": "ipython3",
   "version": "3.10.4"
  },
  "orig_nbformat": 4
 },
 "nbformat": 4,
 "nbformat_minor": 2
}
